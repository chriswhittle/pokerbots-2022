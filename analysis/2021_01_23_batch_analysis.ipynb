{
 "cells": [
  {
   "cell_type": "markdown",
   "id": "711bc3e6",
   "metadata": {},
   "source": [
    "# Batch Analysis of Game Logs"
   ]
  },
  {
   "cell_type": "code",
   "execution_count": 1,
   "id": "d54c94db",
   "metadata": {},
   "outputs": [],
   "source": [
    "import pandas as pd,numpy as np\n",
    "import matplotlib.pyplot as plt\n",
    "\n",
    "import eval7"
   ]
  },
  {
   "cell_type": "markdown",
   "id": "020b7fa9",
   "metadata": {
    "tags": []
   },
   "source": [
    "## Load metadata\n",
    "- Load metadata and filter for specific games"
   ]
  },
  {
   "cell_type": "code",
   "execution_count": 29,
   "id": "03d957db",
   "metadata": {},
   "outputs": [
    {
     "data": {
      "text/html": [
       "<div>\n",
       "<style scoped>\n",
       "    .dataframe tbody tr th:only-of-type {\n",
       "        vertical-align: middle;\n",
       "    }\n",
       "\n",
       "    .dataframe tbody tr th {\n",
       "        vertical-align: top;\n",
       "    }\n",
       "\n",
       "    .dataframe thead th {\n",
       "        text-align: right;\n",
       "    }\n",
       "</style>\n",
       "<table border=\"1\" class=\"dataframe\">\n",
       "  <thead>\n",
       "    <tr style=\"text-align: right;\">\n",
       "      <th></th>\n",
       "      <th>page</th>\n",
       "      <th>Challenger</th>\n",
       "      <th>C_ELO</th>\n",
       "      <th>Opponent</th>\n",
       "      <th>O_ELO</th>\n",
       "      <th>Creation_Time</th>\n",
       "      <th>Your_bot</th>\n",
       "      <th>Status</th>\n",
       "      <th>C_Score</th>\n",
       "      <th>O_Score</th>\n",
       "      <th>Winner</th>\n",
       "      <th>Game Log</th>\n",
       "      <th>Player Log</th>\n",
       "      <th>game_id</th>\n",
       "    </tr>\n",
       "  </thead>\n",
       "  <tbody>\n",
       "    <tr>\n",
       "      <th>0</th>\n",
       "      <td>1</td>\n",
       "      <td>TwoPocketAces</td>\n",
       "      <td>1801.0</td>\n",
       "      <td>Noganomics</td>\n",
       "      <td>1456.0</td>\n",
       "      <td>2022-01-23 14:32:08.385749</td>\n",
       "      <td>v4 150post 3.6B</td>\n",
       "      <td>Completed</td>\n",
       "      <td>148</td>\n",
       "      <td>-148</td>\n",
       "      <td>TwoPocketAces</td>\n",
       "      <td>24951</td>\n",
       "      <td>24951</td>\n",
       "      <td>24951</td>\n",
       "    </tr>\n",
       "    <tr>\n",
       "      <th>1</th>\n",
       "      <td>1</td>\n",
       "      <td>TwoPocketAces</td>\n",
       "      <td>1820.0</td>\n",
       "      <td>lecture-4-reference-bot</td>\n",
       "      <td>1838.0</td>\n",
       "      <td>2022-01-23 05:05:55.308156</td>\n",
       "      <td>v4 150post 3.6B</td>\n",
       "      <td>Completed</td>\n",
       "      <td>0</td>\n",
       "      <td>0</td>\n",
       "      <td>lecture-4-reference-bot</td>\n",
       "      <td>24937</td>\n",
       "      <td>24937</td>\n",
       "      <td>24937</td>\n",
       "    </tr>\n",
       "    <tr>\n",
       "      <th>2</th>\n",
       "      <td>1</td>\n",
       "      <td>TwoPocketAces</td>\n",
       "      <td>1796.0</td>\n",
       "      <td>Grand Central</td>\n",
       "      <td>1873.0</td>\n",
       "      <td>2022-01-23 05:04:15.168540</td>\n",
       "      <td>v4 150post 3.6B</td>\n",
       "      <td>Completed</td>\n",
       "      <td>178</td>\n",
       "      <td>-178</td>\n",
       "      <td>TwoPocketAces</td>\n",
       "      <td>24931</td>\n",
       "      <td>24931</td>\n",
       "      <td>24931</td>\n",
       "    </tr>\n",
       "    <tr>\n",
       "      <th>3</th>\n",
       "      <td>1</td>\n",
       "      <td>TwoPocketAces</td>\n",
       "      <td>1814.0</td>\n",
       "      <td>Grand Central</td>\n",
       "      <td>1855.0</td>\n",
       "      <td>2022-01-23 05:04:14.442975</td>\n",
       "      <td>v4 150post 3.6B</td>\n",
       "      <td>Completed</td>\n",
       "      <td>-91</td>\n",
       "      <td>91</td>\n",
       "      <td>Grand Central</td>\n",
       "      <td>24930</td>\n",
       "      <td>24930</td>\n",
       "      <td>24930</td>\n",
       "    </tr>\n",
       "    <tr>\n",
       "      <th>4</th>\n",
       "      <td>1</td>\n",
       "      <td>TwoPocketAces</td>\n",
       "      <td>1761.0</td>\n",
       "      <td>Grand Central</td>\n",
       "      <td>1908.0</td>\n",
       "      <td>2022-01-23 05:04:09.982104</td>\n",
       "      <td>v4 150post 3.6B</td>\n",
       "      <td>Completed</td>\n",
       "      <td>218</td>\n",
       "      <td>-218</td>\n",
       "      <td>TwoPocketAces</td>\n",
       "      <td>24929</td>\n",
       "      <td>24929</td>\n",
       "      <td>24929</td>\n",
       "    </tr>\n",
       "  </tbody>\n",
       "</table>\n",
       "</div>"
      ],
      "text/plain": [
       "   page     Challenger   C_ELO                 Opponent   O_ELO  \\\n",
       "0     1  TwoPocketAces  1801.0               Noganomics  1456.0   \n",
       "1     1  TwoPocketAces  1820.0  lecture-4-reference-bot  1838.0   \n",
       "2     1  TwoPocketAces  1796.0            Grand Central  1873.0   \n",
       "3     1  TwoPocketAces  1814.0            Grand Central  1855.0   \n",
       "4     1  TwoPocketAces  1761.0            Grand Central  1908.0   \n",
       "\n",
       "               Creation_Time         Your_bot     Status  C_Score  O_Score  \\\n",
       "0 2022-01-23 14:32:08.385749  v4 150post 3.6B  Completed      148     -148   \n",
       "1 2022-01-23 05:05:55.308156  v4 150post 3.6B  Completed        0        0   \n",
       "2 2022-01-23 05:04:15.168540  v4 150post 3.6B  Completed      178     -178   \n",
       "3 2022-01-23 05:04:14.442975  v4 150post 3.6B  Completed      -91       91   \n",
       "4 2022-01-23 05:04:09.982104  v4 150post 3.6B  Completed      218     -218   \n",
       "\n",
       "                    Winner  Game Log  Player Log game_id  \n",
       "0            TwoPocketAces     24951       24951   24951  \n",
       "1  lecture-4-reference-bot     24937       24937   24937  \n",
       "2            TwoPocketAces     24931       24931   24931  \n",
       "3            Grand Central     24930       24930   24930  \n",
       "4            TwoPocketAces     24929       24929   24929  "
      ]
     },
     "execution_count": 29,
     "metadata": {},
     "output_type": "execute_result"
    }
   ],
   "source": [
    "OUTPUTDIR = './scrimmage_data'\n",
    "\n",
    "df = pd.read_pickle(f'{OUTPUTDIR}/metadata.pkl')\n",
    "df.head()"
   ]
  },
  {
   "cell_type": "markdown",
   "id": "45c6a024",
   "metadata": {},
   "source": [
    "Select games from specified bot version"
   ]
  },
  {
   "cell_type": "code",
   "execution_count": 3,
   "id": "45c35d48",
   "metadata": {},
   "outputs": [],
   "source": [
    "BOT_NAME = 'v4 150post 3.6B'\n",
    "\n",
    "mask = (df['Your_bot'] == BOT_NAME)"
   ]
  },
  {
   "cell_type": "markdown",
   "id": "3a0d780c",
   "metadata": {},
   "source": [
    "View matchup frequencies"
   ]
  },
  {
   "cell_type": "code",
   "execution_count": 4,
   "id": "6183f35d",
   "metadata": {},
   "outputs": [
    {
     "data": {
      "text/plain": [
       "Challenger               Opponent               \n",
       "Grand Central            TwoPocketAces              60\n",
       "TwoPocketAces            staff-team                 15\n",
       "                         Grand Central              12\n",
       "                         NaruhodoRyuichi            11\n",
       "Qian & Li                TwoPocketAces              10\n",
       "lecture-4-reference-bot  TwoPocketAces               9\n",
       "DeMars DeRover           TwoPocketAces               9\n",
       "Sweaters & Jetters       TwoPocketAces               9\n",
       "Invictus                 TwoPocketAces               7\n",
       "Earls of Sandwich        TwoPocketAces               4\n",
       "Ace of Spades            TwoPocketAces               4\n",
       "TwoPocketAces            Sadge                       4\n",
       "                         lecture-4-reference-bot     3\n",
       "                         Ace of Spades               3\n",
       "ahahaha                  TwoPocketAces               2\n",
       "TwoPocketAces            Mindfulness                 2\n",
       "                         Sweaters & Jetters          2\n",
       "                         Noganomics                  1\n",
       "                         thirsty_for_internships     1\n",
       "                         zy                          1\n",
       "                         Invictus                    1\n",
       "6A6                      TwoPocketAces               1\n",
       "dtype: int64"
      ]
     },
     "execution_count": 4,
     "metadata": {},
     "output_type": "execute_result"
    }
   ],
   "source": [
    "df.loc[mask,['Challenger','Opponent']].value_counts()"
   ]
  },
  {
   "cell_type": "markdown",
   "id": "255fd204",
   "metadata": {},
   "source": [
    "Select games with a specific challenger"
   ]
  },
  {
   "cell_type": "code",
   "execution_count": 30,
   "id": "708c7aa6",
   "metadata": {},
   "outputs": [
    {
     "data": {
      "text/html": [
       "<div>\n",
       "<style scoped>\n",
       "    .dataframe tbody tr th:only-of-type {\n",
       "        vertical-align: middle;\n",
       "    }\n",
       "\n",
       "    .dataframe tbody tr th {\n",
       "        vertical-align: top;\n",
       "    }\n",
       "\n",
       "    .dataframe thead th {\n",
       "        text-align: right;\n",
       "    }\n",
       "</style>\n",
       "<table border=\"1\" class=\"dataframe\">\n",
       "  <thead>\n",
       "    <tr style=\"text-align: right;\">\n",
       "      <th></th>\n",
       "      <th>page</th>\n",
       "      <th>Challenger</th>\n",
       "      <th>C_ELO</th>\n",
       "      <th>Opponent</th>\n",
       "      <th>O_ELO</th>\n",
       "      <th>Creation_Time</th>\n",
       "      <th>Your_bot</th>\n",
       "      <th>Status</th>\n",
       "      <th>C_Score</th>\n",
       "      <th>O_Score</th>\n",
       "      <th>Winner</th>\n",
       "      <th>Game Log</th>\n",
       "      <th>Player Log</th>\n",
       "      <th>game_id</th>\n",
       "    </tr>\n",
       "  </thead>\n",
       "  <tbody>\n",
       "    <tr>\n",
       "      <th>2</th>\n",
       "      <td>1</td>\n",
       "      <td>TwoPocketAces</td>\n",
       "      <td>1796.0</td>\n",
       "      <td>Grand Central</td>\n",
       "      <td>1873.0</td>\n",
       "      <td>2022-01-23 05:04:15.168540</td>\n",
       "      <td>v4 150post 3.6B</td>\n",
       "      <td>Completed</td>\n",
       "      <td>178</td>\n",
       "      <td>-178</td>\n",
       "      <td>TwoPocketAces</td>\n",
       "      <td>24931</td>\n",
       "      <td>24931</td>\n",
       "      <td>24931</td>\n",
       "    </tr>\n",
       "    <tr>\n",
       "      <th>3</th>\n",
       "      <td>1</td>\n",
       "      <td>TwoPocketAces</td>\n",
       "      <td>1814.0</td>\n",
       "      <td>Grand Central</td>\n",
       "      <td>1855.0</td>\n",
       "      <td>2022-01-23 05:04:14.442975</td>\n",
       "      <td>v4 150post 3.6B</td>\n",
       "      <td>Completed</td>\n",
       "      <td>-91</td>\n",
       "      <td>91</td>\n",
       "      <td>Grand Central</td>\n",
       "      <td>24930</td>\n",
       "      <td>24930</td>\n",
       "      <td>24930</td>\n",
       "    </tr>\n",
       "    <tr>\n",
       "      <th>4</th>\n",
       "      <td>1</td>\n",
       "      <td>TwoPocketAces</td>\n",
       "      <td>1761.0</td>\n",
       "      <td>Grand Central</td>\n",
       "      <td>1908.0</td>\n",
       "      <td>2022-01-23 05:04:09.982104</td>\n",
       "      <td>v4 150post 3.6B</td>\n",
       "      <td>Completed</td>\n",
       "      <td>218</td>\n",
       "      <td>-218</td>\n",
       "      <td>TwoPocketAces</td>\n",
       "      <td>24929</td>\n",
       "      <td>24929</td>\n",
       "      <td>24929</td>\n",
       "    </tr>\n",
       "    <tr>\n",
       "      <th>5</th>\n",
       "      <td>1</td>\n",
       "      <td>TwoPocketAces</td>\n",
       "      <td>1789.0</td>\n",
       "      <td>Grand Central</td>\n",
       "      <td>1880.0</td>\n",
       "      <td>2022-01-23 05:04:08.777283</td>\n",
       "      <td>v4 150post 3.6B</td>\n",
       "      <td>Completed</td>\n",
       "      <td>268</td>\n",
       "      <td>-268</td>\n",
       "      <td>TwoPocketAces</td>\n",
       "      <td>24928</td>\n",
       "      <td>24928</td>\n",
       "      <td>24928</td>\n",
       "    </tr>\n",
       "    <tr>\n",
       "      <th>6</th>\n",
       "      <td>1</td>\n",
       "      <td>TwoPocketAces</td>\n",
       "      <td>1730.0</td>\n",
       "      <td>Grand Central</td>\n",
       "      <td>1939.0</td>\n",
       "      <td>2022-01-23 05:04:08.491104</td>\n",
       "      <td>v4 150post 3.6B</td>\n",
       "      <td>Completed</td>\n",
       "      <td>409</td>\n",
       "      <td>-409</td>\n",
       "      <td>TwoPocketAces</td>\n",
       "      <td>24927</td>\n",
       "      <td>24927</td>\n",
       "      <td>24927</td>\n",
       "    </tr>\n",
       "  </tbody>\n",
       "</table>\n",
       "</div>"
      ],
      "text/plain": [
       "   page     Challenger   C_ELO       Opponent   O_ELO  \\\n",
       "2     1  TwoPocketAces  1796.0  Grand Central  1873.0   \n",
       "3     1  TwoPocketAces  1814.0  Grand Central  1855.0   \n",
       "4     1  TwoPocketAces  1761.0  Grand Central  1908.0   \n",
       "5     1  TwoPocketAces  1789.0  Grand Central  1880.0   \n",
       "6     1  TwoPocketAces  1730.0  Grand Central  1939.0   \n",
       "\n",
       "               Creation_Time         Your_bot     Status  C_Score  O_Score  \\\n",
       "2 2022-01-23 05:04:15.168540  v4 150post 3.6B  Completed      178     -178   \n",
       "3 2022-01-23 05:04:14.442975  v4 150post 3.6B  Completed      -91       91   \n",
       "4 2022-01-23 05:04:09.982104  v4 150post 3.6B  Completed      218     -218   \n",
       "5 2022-01-23 05:04:08.777283  v4 150post 3.6B  Completed      268     -268   \n",
       "6 2022-01-23 05:04:08.491104  v4 150post 3.6B  Completed      409     -409   \n",
       "\n",
       "          Winner  Game Log  Player Log game_id  \n",
       "2  TwoPocketAces     24931       24931   24931  \n",
       "3  Grand Central     24930       24930   24930  \n",
       "4  TwoPocketAces     24929       24929   24929  \n",
       "5  TwoPocketAces     24928       24928   24928  \n",
       "6  TwoPocketAces     24927       24927   24927  "
      ]
     },
     "execution_count": 30,
     "metadata": {},
     "output_type": "execute_result"
    }
   ],
   "source": [
    "OPP_TEAM = 'Grand Central'\n",
    "\n",
    "mask_opp = (df['Your_bot'] == BOT_NAME) & ((df['Challenger'] == OPP_TEAM) | (df['Opponent'] == OPP_TEAM))\n",
    "df[mask_opp].head()"
   ]
  },
  {
   "cell_type": "markdown",
   "id": "015c9ca6",
   "metadata": {},
   "source": [
    "## Get hands and actions at river"
   ]
  },
  {
   "cell_type": "markdown",
   "id": "85c94190-a97b-4e2c-b7f7-4b411bdfa7ee",
   "metadata": {},
   "source": [
    "Define parser for game log, for each river:\n",
    "- Get the button position, hand, board, and post river action of opponent"
   ]
  },
  {
   "cell_type": "code",
   "execution_count": 25,
   "id": "3c574be0",
   "metadata": {},
   "outputs": [],
   "source": [
    "def analyze_river(output_dict,raw_file,opp_id,our_id):\n",
    "    '''\n",
    "    Input game log file\n",
    "    Output opponent's hands and actions at each river\n",
    "    '''\n",
    "    test_str = f'River'\n",
    "    \n",
    "    for i,line in enumerate(raw_file):\n",
    "\n",
    "        if line[:5] == 'River':\n",
    "            \n",
    "            # get blinds\n",
    "            bb_id = raw_file[i-1][0]\n",
    "            sb_id = raw_file[i-2][0]\n",
    "            if opp_id == bb_id:\n",
    "                opp_blinds = 2\n",
    "                shift_index = 1\n",
    "            else:\n",
    "                opp_blinds = 1\n",
    "                shift_index = 0\n",
    "            \n",
    "            # get opponent hands\n",
    "            bb_hand_line = i - 3\n",
    "            while raw_file[bb_hand_line][4:8] != 'hand':\n",
    "                bb_hand_line -= 1\n",
    "            sb_hand_line = bb_hand_line - 1\n",
    "                \n",
    "            hand_line = {2: bb_hand_line, 1: sb_hand_line}[opp_blinds]       \n",
    "            opp_cards = raw_file[hand_line][11:-2].split(' ')\n",
    "            \n",
    "            # get board\n",
    "            board_cards = line[7:21].split(' ')\n",
    "            \n",
    "            # get opponent actions\n",
    "            action_line = hand_line + 2\n",
    "            opp_action = raw_file[action_line][2:-1].split(' ')[0]\n",
    "        \n",
    "            # store\n",
    "            output_dict['opp_blind'].append(opp_blinds)\n",
    "            output_dict['opp_cards'].append(opp_cards)\n",
    "            output_dict['board_cards'].append(board_cards)\n",
    "            output_dict['opp_action'].append(opp_action)\n",
    "            \n",
    "    return output_dict"
   ]
  },
  {
   "cell_type": "markdown",
   "id": "b930b863-5e36-4333-b58a-b648f65f0c46",
   "metadata": {},
   "source": [
    "Execute parser"
   ]
  },
  {
   "cell_type": "code",
   "execution_count": 114,
   "id": "7b6b2b49",
   "metadata": {
    "tags": []
   },
   "outputs": [
    {
     "name": "stdout",
     "output_type": "stream",
     "text": [
      "dict_keys(['opp_blind', 'opp_cards', 'board_cards', 'opp_action'])\n",
      "example:  [1, ['8h', '8s'], ['5d', '2d', 'Ts', 'Kd', '9c'], 'checks']\n"
     ]
    }
   ],
   "source": [
    "from collections import defaultdict\n",
    "\n",
    "SCRIMMAGE_DIR = './scrimmage_data'\n",
    "OUR_TEAM = 'TwoPocketAces'\n",
    "river_actions = defaultdict(list)\n",
    "\n",
    "for i in range(len(df.loc[mask_opp])):\n",
    "    \n",
    "    game = df.loc[mask_opp].iloc[i]\n",
    "\n",
    "    our_challenge = (game.Challenger == OUR_TEAM)\n",
    "    our_id = {True: 'A', False: 'B'}[our_challenge]\n",
    "    opp_id = {True: 'A', False: 'B'}[not our_challenge]\n",
    "\n",
    "    raw_file = open(f'{SCRIMMAGE_DIR}/game_log_{game.game_id}.txt','r').readlines()\n",
    "\n",
    "    river_actions = analyze_river(river_actions,raw_file,opp_id,our_id)\n",
    "\n",
    "print(river_actions.keys())\n",
    "print(\"example: \", [river_actions[key][0] for key in river_actions.keys()])"
   ]
  },
  {
   "cell_type": "markdown",
   "id": "70f524c8-9f81-4f7f-8d5b-24e9367a2eb5",
   "metadata": {
    "tags": []
   },
   "source": [
    "## Calculate equity for each hand\n",
    "- For each hand at river, calculate equity vs. a random hand (all cards in range)\n",
    "- Simply load pickle if data already saved"
   ]
  },
  {
   "cell_type": "code",
   "execution_count": 100,
   "id": "eb8c6973-51c8-4727-b6e7-dd8f0108d242",
   "metadata": {},
   "outputs": [],
   "source": [
    "from itertools import combinations\n",
    "\n",
    "RANKS = {k:v for k,v in zip('23456789TJQKA',list(range(13)))}\n",
    "CARDS = {f'{r}{s}': eval7.Card(f'{r}{s}') for r in RANKS.keys() for s in 'schd'}\n",
    "\n",
    "def get_random_range(opp_hand_str,board_str):    \n",
    "    rand_cards = [card for card in CARDS.keys() if card not in opp_hand_str + board_str]\n",
    "    rand_hands = list(combinations(rand_cards,2))                   \n",
    "    rand_range = eval7.HandRange(\", \".join(list(map(\"\".join,rand_hands))))    \n",
    "    return rand_range\n",
    "\n",
    "def calculate_equity_vs_random_range(opp_hand_str,board_str):    \n",
    "    rand_range = get_random_range(opp_hand_str,board_str)    \n",
    "    opp_hand = tuple(map(eval7.Card,opp_hand_str))\n",
    "    board = tuple(map(eval7.Card,board_str))\n",
    "    return eval7.py_hand_vs_range_exact(opp_hand,rand_range,board)"
   ]
  },
  {
   "cell_type": "markdown",
   "id": "60114ea9-109b-4c19-84d5-42383798d69b",
   "metadata": {},
   "source": [
    "Execute parser in multi-thread\n",
    "- Could be optimized"
   ]
  },
  {
   "cell_type": "code",
   "execution_count": 115,
   "id": "8ecb2920-4adc-4290-838b-bd02fa1f9502",
   "metadata": {},
   "outputs": [
    {
     "name": "stderr",
     "output_type": "stream",
     "text": [
      "100%|███████████████████████████████████████| 7826/7826 [20:34<00:00,  6.34it/s]\n"
     ]
    }
   ],
   "source": [
    "from multiprocessing import Pool\n",
    "from tqdm import tqdm\n",
    "\n",
    "N_samples = len(river_actions['opp_cards'])\n",
    "x = range(N_samples)\n",
    "\n",
    "def f(i):\n",
    "    return calculate_equity_vs_random_range(river_actions['opp_cards'][i],river_actions['board_cards'][i])\n",
    "                                            \n",
    "if __name__ == '__main__':\n",
    "    with Pool(8) as p:\n",
    "        r = list(tqdm(p.imap(f,range(N_samples)),total=N_samples))"
   ]
  },
  {
   "cell_type": "code",
   "execution_count": 121,
   "id": "6876ce26",
   "metadata": {},
   "outputs": [],
   "source": [
    "r_df = pd.DataFrame({'opp_blind': pd.Series(river_actions['opp_blind'],dtype='int'),\n",
    "                     'opp_equity': pd.Series(r,dtype='float'),\n",
    "                     'opp_action': pd.Series(river_actions['opp_action'],dtype='str')})"
   ]
  },
  {
   "cell_type": "markdown",
   "id": "c1910b65-ddce-439b-ab8f-ceac233425c8",
   "metadata": {},
   "source": [
    "Save batch analysis"
   ]
  },
  {
   "cell_type": "code",
   "execution_count": 122,
   "id": "7014d54f-7299-407d-9c9b-7c57d890b75d",
   "metadata": {},
   "outputs": [],
   "source": [
    "r_df.to_pickle('./batch_analysis/GC_Games.pickle')"
   ]
  },
  {
   "cell_type": "markdown",
   "id": "8c48d6a5-992e-4d6e-a4f3-444962526a71",
   "metadata": {},
   "source": [
    "## Plot batch analysis"
   ]
  },
  {
   "cell_type": "code",
   "execution_count": 157,
   "id": "bd867600-b343-4edf-9232-c349c51ace8a",
   "metadata": {},
   "outputs": [
    {
     "data": {
      "text/plain": [
       "checks    3775\n",
       "bets      1280\n",
       "Name: opp_action, dtype: int64"
      ]
     },
     "execution_count": 157,
     "metadata": {},
     "output_type": "execute_result"
    }
   ],
   "source": [
    "r_df.loc[r_df.opp_blind == 1].opp_action.value_counts()"
   ]
  },
  {
   "cell_type": "code",
   "execution_count": 154,
   "id": "c473242e",
   "metadata": {},
   "outputs": [
    {
     "data": {
      "text/plain": [
       "Text(0, 0.5, 'Number of Hands')"
      ]
     },
     "execution_count": 154,
     "metadata": {},
     "output_type": "execute_result"
    },
    {
     "data": {
      "image/png": "[encoded data removed]",
      "text/plain": [
       "<Figure size 1008x648 with 1 Axes>"
      ]
     },
     "metadata": {
      "needs_background": "light"
     },
     "output_type": "display_data"
    }
   ],
   "source": [
    "SB = (r_df.opp_blind == 1)\n",
    "CHECKS = (r_df.opp_action == 'checks')\n",
    "BETS = (r_df.opp_action == 'bets')\n",
    "\n",
    "bins = np.arange(0,1,.05)\n",
    "plt.hist(r_df.loc[SB&BETS].opp_equity,bins,histtype='step',label = 'SB bets',lw=3)\n",
    "mask = (r_df.opp_blind == 1) & (r_df.opp_action == 'checks')\n",
    "plt.hist(r_df.loc[SB&CHECKS].opp_equity,bins,histtype='step',label = 'SB checks',lw=3)\n",
    "\n",
    "plt.legend()\n",
    "plt.grid()\n",
    "plt.xlabel('Exact Equity vs. Random Range at River')\n",
    "plt.title(f'opponent = Grand Central; N_rounds = {N_samples}')\n",
    "plt.ylabel('Number of Hands')"
   ]
  }
 ],
 "metadata": {
  "kernelspec": {
   "display_name": "Python 3 (ipykernel)",
   "language": "python",
   "name": "python3"
  },
  "language_info": {
   "codemirror_mode": {
    "name": "ipython",
    "version": 3
   },
   "file_extension": ".py",
   "mimetype": "text/x-python",
   "name": "python",
   "nbconvert_exporter": "python",
   "pygments_lexer": "ipython3",
   "version": "3.7.11"
  }
 },
 "nbformat": 4,
 "nbformat_minor": 5
}
