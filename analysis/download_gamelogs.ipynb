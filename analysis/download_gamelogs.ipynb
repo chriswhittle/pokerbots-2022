{
 "cells": [
  {
   "cell_type": "markdown",
   "metadata": {},
   "source": [
    "## Download of gamelogs from pokerbots scrimmage server"
   ]
  },
  {
   "cell_type": "markdown",
   "metadata": {},
   "source": [
    "### Initialize: Open a new browser instance"
   ]
  },
  {
   "cell_type": "code",
   "execution_count": 13,
   "metadata": {},
   "outputs": [],
   "source": [
    "import os\n",
    "import tqdm\n",
    "\n",
    "import pandas as pd\n",
    "\n",
    "from selenium import webdriver\n",
    "from selenium.webdriver.common.by import By\n",
    "\n",
    "driver = webdriver.Chrome()\n",
    "driver.get(\"https://scrimmage.pokerbots.org/login\")"
   ]
  },
  {
   "cell_type": "markdown",
   "metadata": {},
   "source": [
    "After browser instance opens\n",
    "1. Manually select a certificate to login (must do every time a new browser instance is opened)\n",
    "2. Add accessibility permissions (only need to do once)"
   ]
  },
  {
   "cell_type": "markdown",
   "metadata": {},
   "source": [
    "### Task: Download log from range of pages"
   ]
  },
  {
   "cell_type": "code",
   "execution_count": 14,
   "metadata": {},
   "outputs": [
    {
     "name": "stderr",
     "output_type": "stream",
     "text": [
      "100%|███████████████████████████████████████████| 64/64 [03:04<00:00,  2.88s/it]\n"
     ]
    }
   ],
   "source": [
    "PAGE_MIN, PAGE_MAX = 1, 64\n",
    "OVERWRITE = False\n",
    "OUTPUTDIR = './scrimmage_data'\n",
    "\n",
    "for p in tqdm.tqdm(range(PAGE_MIN,PAGE_MAX+1)):\n",
    "            \n",
    "    driver.get(f\"https://scrimmage.pokerbots.org/team/games?page={p}\")\n",
    "    cell_data = driver.find_elements(By.TAG_NAME, \"td\") \n",
    "    assert len(cell_data) % 12 == 0, f'expected 12 columns including Logs, but there are {len(cell_data)} cells, which is not divisible by 12'\n",
    "    \n",
    "    Nrows = len(cell_data) // 12\n",
    "    \n",
    "    for i in range(len(cell_data)):\n",
    "        cell = driver.find_elements(By.TAG_NAME, \"td\")[i]\n",
    "\n",
    "        c = i % 12 # get column index\n",
    "        \n",
    "        if c < 10:\n",
    "            continue\n",
    "            \n",
    "        type_str = None\n",
    "        if c == 10:\n",
    "            type_str = 'game_log'\n",
    "        elif c == 11:\n",
    "            type_str = 'player_log'            \n",
    "\n",
    "        try:\n",
    "            href = cell.find_elements(By.LINK_TEXT, \"Log\")[0].get_attribute('href')\n",
    "            gameid = href.split('/')[-2]\n",
    "            savefilename = f'{OUTPUTDIR}/{type_str}_{gameid}.txt'        \n",
    "            \n",
    "            if os.path.exists(savefilename) == False or OVERWRITE == True:            \n",
    "                driver.get(href)           \n",
    "                f = open(savefilename,'w')\n",
    "                f.write(driver.page_source[84:-20])\n",
    "                f.close()                    \n",
    "                driver.back()                \n",
    "                \n",
    "        except:\n",
    "            continue"
   ]
  },
  {
   "cell_type": "markdown",
   "metadata": {},
   "source": [
    "### Task: Download log from one page"
   ]
  },
  {
   "cell_type": "code",
   "execution_count": 192,
   "metadata": {
    "hide_input": true
   },
   "outputs": [],
   "source": [
    "PAGE = 1 # select page number\n",
    "# Game Logs correspond to i % 2 == 0, Player Logs corresponds to i % 2 == 1\n",
    "LOGN = 0 # log number on page; \n",
    "\n",
    "driver.get(f\"https://scrimmage.pokerbots.org/team/games?page={PAGE}\")\n",
    "test = driver.find_elements(By.LINK_TEXT, \"Log\")\n",
    "game_id = test[LOGN].get_attribute('href').split('/')[-2]\n",
    "test[LOGN].click()\n",
    "\n",
    "# f = open(f'{outputdir}/scrimmage_data/game_log_{game_id}.txt','w')\n",
    "# f.write(driver.page_source[84:-20])\n",
    "# f.close()"
   ]
  },
  {
   "cell_type": "markdown",
   "metadata": {},
   "source": [
    "### Task: Generate Metadata Table with GameID lookup Key"
   ]
  },
  {
   "cell_type": "code",
   "execution_count": 15,
   "metadata": {},
   "outputs": [
    {
     "name": "stderr",
     "output_type": "stream",
     "text": [
      "100%|███████████████████████████████████████████| 64/64 [03:36<00:00,  3.38s/it]\n"
     ]
    }
   ],
   "source": [
    "PAGE_MIN, PAGE_MAX = 1, 64\n",
    "OUTPUTDIR = './scrimmage_data'\n",
    "\n",
    "columns = ['page','Challenger','C_ELO','Opponent','O_ELO','Creation_Time','Your_bot','Status','C_Score','O_Score','Winner','Game Log','Player Log']\n",
    "table_data = {h: [] for h in columns}\n",
    "\n",
    "for p in tqdm.tqdm(range(PAGE_MIN,PAGE_MAX+1)):\n",
    "            \n",
    "    driver.get(f\"https://scrimmage.pokerbots.org/team/games?page={p}\")\n",
    "    cell_data = driver.find_elements(By.TAG_NAME, \"td\") \n",
    "    assert len(cell_data) % 12 == 0, f'expected 12 columns including Logs, but there are {len(cell_data)} cells, which is not divisible by 12'\n",
    "    \n",
    "    Nrows = len(cell_data) // 12\n",
    "    \n",
    "    for i,cell in enumerate(cell_data):\n",
    "        \n",
    "        c = i % 12 # get column index\n",
    "            \n",
    "        if c == 0:\n",
    "            table_data['page'].append(p)\n",
    "            \n",
    "        if c in {10,11}:\n",
    "            \n",
    "            try:\n",
    "                gameid = cell.find_elements(By.LINK_TEXT, \"Log\")[0].get_attribute('href').split('/')[-2]\n",
    "            except:\n",
    "                gameid = None\n",
    "            \n",
    "            table_data[columns[c+1]].append(gameid)\n",
    "            \n",
    "        else:\n",
    "            table_data[columns[c+1]].append(cell.text)"
   ]
  },
  {
   "cell_type": "code",
   "execution_count": 16,
   "metadata": {},
   "outputs": [],
   "source": [
    "metadata = pd.DataFrame(table_data)"
   ]
  },
  {
   "cell_type": "markdown",
   "metadata": {},
   "source": [
    "Check bad values.\n",
    "(1) Determine game id, if absent player log set to 0"
   ]
  },
  {
   "cell_type": "code",
   "execution_count": 17,
   "metadata": {},
   "outputs": [
    {
     "data": {
      "text/plain": [
       "(0, 10)"
      ]
     },
     "execution_count": 17,
     "metadata": {},
     "output_type": "execute_result"
    }
   ],
   "source": [
    "metadata['Game Log'].isnull().sum(),metadata['Player Log'].isnull().sum()"
   ]
  },
  {
   "cell_type": "code",
   "execution_count": 18,
   "metadata": {},
   "outputs": [
    {
     "name": "stderr",
     "output_type": "stream",
     "text": [
      "/Users/hblim/Applications/anaconda3/envs/pokerbot/lib/python3.7/site-packages/pandas/core/indexing.py:1732: SettingWithCopyWarning: \n",
      "A value is trying to be set on a copy of a slice from a DataFrame\n",
      "\n",
      "See the caveats in the documentation: https://pandas.pydata.org/pandas-docs/stable/user_guide/indexing.html#returning-a-view-versus-a-copy\n",
      "  self._setitem_single_block(indexer, value, name)\n"
     ]
    }
   ],
   "source": [
    "metadata['game_id'] = metadata['Game Log']\n",
    "metadata['Player Log'].loc[metadata['Player Log'].isnull()] = 0"
   ]
  },
  {
   "cell_type": "markdown",
   "metadata": {},
   "source": [
    "(2) Fix Missing Score"
   ]
  },
  {
   "cell_type": "code",
   "execution_count": 19,
   "metadata": {},
   "outputs": [
    {
     "data": {
      "text/plain": [
       "(10, 0)"
      ]
     },
     "execution_count": 19,
     "metadata": {},
     "output_type": "execute_result"
    }
   ],
   "source": [
    "(metadata['C_Score'] == 'None').sum(),(metadata['O_Score'] == 'None').sum()"
   ]
  },
  {
   "cell_type": "code",
   "execution_count": 20,
   "metadata": {},
   "outputs": [],
   "source": [
    "metadata['C_Score'].loc[metadata['C_Score'] == 'None'] = 0"
   ]
  },
  {
   "cell_type": "markdown",
   "metadata": {},
   "source": [
    "Add headers"
   ]
  },
  {
   "cell_type": "code",
   "execution_count": 21,
   "metadata": {},
   "outputs": [],
   "source": [
    "dtypes = ['int','string','float','string','float','datetime64[ns]','string','string','int','int','string','int','int','int']\n",
    "metadata = metadata.astype({columns[i]: dtypes[i] for i in range(len(columns))})"
   ]
  },
  {
   "cell_type": "markdown",
   "metadata": {},
   "source": [
    "Write dataframe"
   ]
  },
  {
   "cell_type": "code",
   "execution_count": 22,
   "metadata": {},
   "outputs": [],
   "source": [
    "OUTPUTDIR = './scrimmage_data'\n",
    "metadata.to_pickle(f'{OUTPUTDIR}/metadata.pkl')"
   ]
  }
 ],
 "metadata": {
  "kernelspec": {
   "display_name": "Python 3 (ipykernel)",
   "language": "python",
   "name": "python3"
  },
  "language_info": {
   "codemirror_mode": {
    "name": "ipython",
    "version": 3
   },
   "file_extension": ".py",
   "mimetype": "text/x-python",
   "name": "python",
   "nbconvert_exporter": "python",
   "pygments_lexer": "ipython3",
   "version": "3.7.11"
  }
 },
 "nbformat": 4,
 "nbformat_minor": 4
}
